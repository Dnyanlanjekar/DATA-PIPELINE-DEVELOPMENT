# Step 1: Import Required Libraries
import pandas as pd
from sklearn.preprocessing import StandardScaler, LabelEncoder
from sklearn.impute import SimpleImputer
raw_data = {
    'Name': ['Anusaya', 'Vinod', 'Tanmay', 'Diablo'],
    'Age': [25, 49, 30, 22],
    'Gender': ['Female', 'Male', 'Male', 'Female'],
    'Salary': [50000, 60000, 65000, 45000]
}
df = pd.DataFrame(raw_data)
df.to_csv('raw_data.csv', index=False)  # Save to CSV like a real source
df.head()
imputer = SimpleImputer(strategy='mean')
df[['Age', 'Salary']] = imputer.fit_transform(df[['Age', 'Salary']])
df
label_enc = LabelEncoder()
df['Gender'] = label_enc.fit_transform(df['Gender'])
df
scaler = StandardScaler()
df[['Age', 'Salary']] = scaler.fit_transform(df[['Age', 'Salary']])
df
df.to_csv('clean_data.csv', index=False)
print("Cleaned data saved to 'clean_data.csv'")
